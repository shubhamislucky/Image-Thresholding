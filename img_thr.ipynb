{
 "cells": [
  {
   "cell_type": "code",
   "execution_count": 1,
   "metadata": {},
   "outputs": [],
   "source": [
    "import cv2 as cv\n",
    "import numpy as np\n",
    "from matplotlib import pyplot as plt"
   ]
  },
  {
   "cell_type": "code",
   "execution_count": 3,
   "metadata": {},
   "outputs": [
    {
     "data": {
      "text/plain": [
       "(array([5.000e+00, 1.200e+01, 2.200e+01, 3.100e+01, 3.500e+01, 7.600e+01,\n",
       "        1.510e+02, 2.280e+02, 3.220e+02, 3.500e+02, 3.760e+02, 3.740e+02,\n",
       "        4.310e+02, 4.050e+02, 4.420e+02, 3.780e+02, 4.270e+02, 4.280e+02,\n",
       "        4.070e+02, 5.110e+02, 6.020e+02, 5.740e+02, 5.950e+02, 6.470e+02,\n",
       "        6.860e+02, 7.360e+02, 7.130e+02, 7.680e+02, 6.440e+02, 6.970e+02,\n",
       "        6.760e+02, 6.040e+02, 6.420e+02, 6.290e+02, 6.390e+02, 6.650e+02,\n",
       "        6.840e+02, 6.150e+02, 5.990e+02, 5.730e+02, 5.270e+02, 5.110e+02,\n",
       "        5.060e+02, 5.310e+02, 5.230e+02, 5.150e+02, 5.490e+02, 5.630e+02,\n",
       "        5.730e+02, 5.570e+02, 5.830e+02, 5.740e+02, 6.360e+02, 6.550e+02,\n",
       "        6.880e+02, 7.420e+02, 8.460e+02, 9.790e+02, 1.034e+03, 9.050e+02,\n",
       "        8.740e+02, 9.300e+02, 8.790e+02, 8.710e+02, 8.540e+02, 7.950e+02,\n",
       "        7.470e+02, 7.520e+02, 6.590e+02, 6.520e+02, 5.960e+02, 5.950e+02,\n",
       "        5.790e+02, 6.000e+02, 5.600e+02, 5.990e+02, 7.020e+02, 9.430e+02,\n",
       "        1.079e+03, 9.640e+02, 9.440e+02, 9.760e+02, 9.560e+02, 9.620e+02,\n",
       "        9.250e+02, 9.280e+02, 9.110e+02, 9.320e+02, 8.940e+02, 9.050e+02,\n",
       "        8.100e+02, 8.160e+02, 7.990e+02, 8.290e+02, 9.240e+02, 8.910e+02,\n",
       "        7.890e+02, 7.580e+02, 8.070e+02, 9.020e+02, 8.210e+02, 6.840e+02,\n",
       "        6.680e+02, 6.620e+02, 6.500e+02, 7.380e+02, 7.420e+02, 7.160e+02,\n",
       "        7.290e+02, 7.600e+02, 8.070e+02, 8.240e+02, 8.820e+02, 8.940e+02,\n",
       "        8.750e+02, 9.060e+02, 1.000e+03, 1.032e+03, 1.013e+03, 9.910e+02,\n",
       "        9.930e+02, 8.670e+02, 8.880e+02, 7.930e+02, 7.550e+02, 7.240e+02,\n",
       "        6.630e+02, 5.480e+02, 5.080e+02, 5.150e+02, 4.890e+02, 5.040e+02,\n",
       "        5.050e+02, 5.180e+02, 5.290e+02, 5.870e+02, 5.820e+02, 5.840e+02,\n",
       "        6.280e+02, 6.540e+02, 5.520e+02, 5.280e+02, 5.340e+02, 5.160e+02,\n",
       "        5.590e+02, 5.480e+02, 5.180e+02, 4.670e+02, 4.710e+02, 4.260e+02,\n",
       "        4.480e+02, 4.440e+02, 4.330e+02, 4.410e+02, 4.220e+02, 3.660e+02,\n",
       "        3.340e+02, 2.940e+02, 3.210e+02, 2.960e+02, 3.510e+02, 3.550e+02,\n",
       "        3.480e+02, 3.600e+02, 3.350e+02, 3.420e+02, 3.360e+02, 3.030e+02,\n",
       "        3.090e+02, 2.620e+02, 2.570e+02, 2.570e+02, 3.240e+02, 2.930e+02,\n",
       "        3.500e+02, 3.020e+02, 3.590e+02, 2.240e+02, 2.020e+02, 2.550e+02,\n",
       "        2.320e+02, 2.180e+02, 2.190e+02, 2.610e+02, 2.400e+02, 2.670e+02,\n",
       "        2.710e+02, 2.720e+02, 2.430e+02, 2.340e+02, 2.610e+02, 2.330e+02,\n",
       "        2.680e+02, 2.440e+02, 2.420e+02, 2.270e+02, 2.610e+02, 2.870e+02,\n",
       "        2.610e+02, 2.340e+02, 2.340e+02, 2.500e+02, 2.270e+02, 2.750e+02,\n",
       "        2.480e+02, 2.560e+02, 2.570e+02, 2.170e+02, 2.050e+02, 2.150e+02,\n",
       "        2.600e+02, 3.020e+02, 3.430e+02, 3.230e+02, 2.480e+02, 1.960e+02,\n",
       "        1.880e+02, 1.650e+02, 1.740e+02, 1.690e+02, 1.740e+02, 1.670e+02,\n",
       "        1.900e+02, 2.010e+02, 2.020e+02, 2.130e+02, 1.630e+02, 1.070e+02,\n",
       "        7.200e+01, 4.100e+01, 3.200e+01, 1.900e+01, 1.700e+01, 8.000e+00,\n",
       "        4.000e+00, 9.000e+00, 5.000e+00, 0.000e+00, 1.000e+00, 0.000e+00,\n",
       "        3.000e+00, 2.000e+00, 1.000e+00, 1.000e+00, 4.000e+00, 1.000e+00,\n",
       "        5.000e+00, 0.000e+00, 5.000e+00, 3.000e+00, 1.000e+01, 5.000e+00,\n",
       "        7.000e+00, 1.900e+01, 2.000e+01, 8.000e+00]),\n",
       " array([  0.        ,   0.99609375,   1.9921875 ,   2.98828125,\n",
       "          3.984375  ,   4.98046875,   5.9765625 ,   6.97265625,\n",
       "          7.96875   ,   8.96484375,   9.9609375 ,  10.95703125,\n",
       "         11.953125  ,  12.94921875,  13.9453125 ,  14.94140625,\n",
       "         15.9375    ,  16.93359375,  17.9296875 ,  18.92578125,\n",
       "         19.921875  ,  20.91796875,  21.9140625 ,  22.91015625,\n",
       "         23.90625   ,  24.90234375,  25.8984375 ,  26.89453125,\n",
       "         27.890625  ,  28.88671875,  29.8828125 ,  30.87890625,\n",
       "         31.875     ,  32.87109375,  33.8671875 ,  34.86328125,\n",
       "         35.859375  ,  36.85546875,  37.8515625 ,  38.84765625,\n",
       "         39.84375   ,  40.83984375,  41.8359375 ,  42.83203125,\n",
       "         43.828125  ,  44.82421875,  45.8203125 ,  46.81640625,\n",
       "         47.8125    ,  48.80859375,  49.8046875 ,  50.80078125,\n",
       "         51.796875  ,  52.79296875,  53.7890625 ,  54.78515625,\n",
       "         55.78125   ,  56.77734375,  57.7734375 ,  58.76953125,\n",
       "         59.765625  ,  60.76171875,  61.7578125 ,  62.75390625,\n",
       "         63.75      ,  64.74609375,  65.7421875 ,  66.73828125,\n",
       "         67.734375  ,  68.73046875,  69.7265625 ,  70.72265625,\n",
       "         71.71875   ,  72.71484375,  73.7109375 ,  74.70703125,\n",
       "         75.703125  ,  76.69921875,  77.6953125 ,  78.69140625,\n",
       "         79.6875    ,  80.68359375,  81.6796875 ,  82.67578125,\n",
       "         83.671875  ,  84.66796875,  85.6640625 ,  86.66015625,\n",
       "         87.65625   ,  88.65234375,  89.6484375 ,  90.64453125,\n",
       "         91.640625  ,  92.63671875,  93.6328125 ,  94.62890625,\n",
       "         95.625     ,  96.62109375,  97.6171875 ,  98.61328125,\n",
       "         99.609375  , 100.60546875, 101.6015625 , 102.59765625,\n",
       "        103.59375   , 104.58984375, 105.5859375 , 106.58203125,\n",
       "        107.578125  , 108.57421875, 109.5703125 , 110.56640625,\n",
       "        111.5625    , 112.55859375, 113.5546875 , 114.55078125,\n",
       "        115.546875  , 116.54296875, 117.5390625 , 118.53515625,\n",
       "        119.53125   , 120.52734375, 121.5234375 , 122.51953125,\n",
       "        123.515625  , 124.51171875, 125.5078125 , 126.50390625,\n",
       "        127.5       , 128.49609375, 129.4921875 , 130.48828125,\n",
       "        131.484375  , 132.48046875, 133.4765625 , 134.47265625,\n",
       "        135.46875   , 136.46484375, 137.4609375 , 138.45703125,\n",
       "        139.453125  , 140.44921875, 141.4453125 , 142.44140625,\n",
       "        143.4375    , 144.43359375, 145.4296875 , 146.42578125,\n",
       "        147.421875  , 148.41796875, 149.4140625 , 150.41015625,\n",
       "        151.40625   , 152.40234375, 153.3984375 , 154.39453125,\n",
       "        155.390625  , 156.38671875, 157.3828125 , 158.37890625,\n",
       "        159.375     , 160.37109375, 161.3671875 , 162.36328125,\n",
       "        163.359375  , 164.35546875, 165.3515625 , 166.34765625,\n",
       "        167.34375   , 168.33984375, 169.3359375 , 170.33203125,\n",
       "        171.328125  , 172.32421875, 173.3203125 , 174.31640625,\n",
       "        175.3125    , 176.30859375, 177.3046875 , 178.30078125,\n",
       "        179.296875  , 180.29296875, 181.2890625 , 182.28515625,\n",
       "        183.28125   , 184.27734375, 185.2734375 , 186.26953125,\n",
       "        187.265625  , 188.26171875, 189.2578125 , 190.25390625,\n",
       "        191.25      , 192.24609375, 193.2421875 , 194.23828125,\n",
       "        195.234375  , 196.23046875, 197.2265625 , 198.22265625,\n",
       "        199.21875   , 200.21484375, 201.2109375 , 202.20703125,\n",
       "        203.203125  , 204.19921875, 205.1953125 , 206.19140625,\n",
       "        207.1875    , 208.18359375, 209.1796875 , 210.17578125,\n",
       "        211.171875  , 212.16796875, 213.1640625 , 214.16015625,\n",
       "        215.15625   , 216.15234375, 217.1484375 , 218.14453125,\n",
       "        219.140625  , 220.13671875, 221.1328125 , 222.12890625,\n",
       "        223.125     , 224.12109375, 225.1171875 , 226.11328125,\n",
       "        227.109375  , 228.10546875, 229.1015625 , 230.09765625,\n",
       "        231.09375   , 232.08984375, 233.0859375 , 234.08203125,\n",
       "        235.078125  , 236.07421875, 237.0703125 , 238.06640625,\n",
       "        239.0625    , 240.05859375, 241.0546875 , 242.05078125,\n",
       "        243.046875  , 244.04296875, 245.0390625 , 246.03515625,\n",
       "        247.03125   , 248.02734375, 249.0234375 , 250.01953125,\n",
       "        251.015625  , 252.01171875, 253.0078125 , 254.00390625,\n",
       "        255.        ]),\n",
       " <a list of 256 Patch objects>)"
      ]
     },
     "execution_count": 3,
     "metadata": {},
     "output_type": "execute_result"
    },
    {
     "data": {
      "image/png": "[encoded data removed]",
      "text/plain": [
       "<Figure size 432x288 with 1 Axes>"
      ]
     },
     "metadata": {
      "needs_background": "light"
     },
     "output_type": "display_data"
    }
   ],
   "source": [
    "img = cv.imread('images/room.jpg')\n",
    "# converting the image to grascale\n",
    "logo = cv.cvtColor(img, cv.COLOR_BGR2GRAY)\n",
    "cv.imwrite('images/room_gray.jpg', logo)\n",
    "\n",
    "plt.hist(logo.ravel(), 256)"
   ]
  },
  {
   "cell_type": "code",
   "execution_count": 4,
   "metadata": {},
   "outputs": [
    {
     "data": {
      "text/plain": [
       "48"
      ]
     },
     "execution_count": 4,
     "metadata": {},
     "output_type": "execute_result"
    }
   ],
   "source": [
    "# different types of thresholding\n",
    "# we set threshold to 130, you can change it to see what happens!!\n",
    "ret,thr1 = cv.threshold(logo,130,255,cv.THRESH_BINARY)\n",
    "ret,thr2 = cv.threshold(logo,130,255,cv.THRESH_BINARY_INV)\n",
    "ret,thr3 = cv.threshold(logo,130,255,cv.THRESH_TRUNC)\n",
    "ret,thr4 = cv.threshold(logo,130,255,cv.THRESH_TOZERO)\n",
    "ret,thr5 = cv.threshold(logo,130,255,cv.THRESH_TOZERO_INV)\n",
    "\n",
    "cv.imshow('Original Image', logo)\n",
    "cv.imshow('THRESH_BINARY', thr1) \n",
    "cv.imshow('THRESH_BINARY_INV', thr2) \n",
    "cv.imshow('THRESH_TRUNC', thr3) \n",
    "cv.imshow('THRESH_TOZERO', thr4) \n",
    "cv.imshow('THRESH_TOZERO_INV', thr5) \n",
    "\n",
    "cv.waitKey(0)"
   ]
  },
  {
   "cell_type": "code",
   "execution_count": null,
   "metadata": {},
   "outputs": [],
   "source": []
  }
 ],
 "metadata": {
  "kernelspec": {
   "display_name": "Python 3.7.1 64-bit ('anaconda3': virtualenv)",
   "language": "python",
   "name": "python37164bitanaconda3virtualenvda559f6a83904514a8dd78293d3173c3"
  },
  "language_info": {
   "codemirror_mode": {
    "name": "ipython",
    "version": 3
   },
   "file_extension": ".py",
   "mimetype": "text/x-python",
   "name": "python",
   "nbconvert_exporter": "python",
   "pygments_lexer": "ipython3",
   "version": "3.7.1"
  }
 },
 "nbformat": 4,
 "nbformat_minor": 4
}
